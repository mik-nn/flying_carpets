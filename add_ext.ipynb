{
 "cells": [
  {
   "cell_type": "code",
   "execution_count": 1,
   "metadata": {},
   "outputs": [],
   "source": [
    "import pandas as pd\n",
    "import os"
   ]
  },
  {
   "cell_type": "code",
   "execution_count": 2,
   "metadata": {},
   "outputs": [
    {
     "name": "stdout",
     "output_type": "stream",
     "text": [
      "                     filename  width  height      class  xmin  ymin  xmax  \\\n",
      "0  Batch_MOC_19-40_000288.jpg    640     360  kover6090   215   137   259   \n",
      "1  Batch_MOC_19-40_000288.jpg    640     360  kover6090   226    94   296   \n",
      "2  Batch_MOC_19-40_000290.jpg    640     360  kover6090   213   132   259   \n",
      "3  Batch_MOC_19-40_000290.jpg    640     360  kover6090   238    99   331   \n",
      "4  Batch_MOC_19-40_000291.jpg    640     360  kover6090   210   130   258   \n",
      "\n",
      "   ymax  nframe  \n",
      "0   196     288  \n",
      "1   148     288  \n",
      "2   199     290  \n",
      "3   144     290  \n",
      "4   198     291  \n",
      "                     filename  width  height      class  xmin  ymin  xmax  \\\n",
      "0  Batch_MOC_19_40_000285.jpg   1920    1080  kover6090   592   375   699   \n",
      "1  Batch_MOC_19_40_000287.jpg   1920    1080  kover6090   592   371   702   \n",
      "2  Batch_MOC_19_40_000287.jpg   1920    1080  kover6090   592   371   702   \n",
      "3  Batch_MOC_19_40_000288.jpg   1920    1080  kover6090   592   369   703   \n",
      "4  Batch_MOC_19_40_000289.jpg   1920    1080  kover6090   592   367   704   \n",
      "\n",
      "   ymax  nframe  \n",
      "0   522     285  \n",
      "1   522     287  \n",
      "2   522     287  \n",
      "3   522     288  \n",
      "4   522     289  \n"
     ]
    }
   ],
   "source": [
    "SRC = '../Labels_in_Folders'\n",
    "for labelf in os.listdir(SRC):\n",
    "    df = pd.read_csv(os.path.join(SRC,labelf), sep=';')\n",
    "    df['filename']= df['filename'].astype(str)+'.jpg' \n",
    "    print(df.head())        \n",
    "    df.to_csv(os.path.join(SRC,labelf[:-4]+'m.csv'),index=False)"
   ]
  }
 ],
 "metadata": {
  "kernelspec": {
   "display_name": "Python 3",
   "language": "python",
   "name": "python3"
  },
  "language_info": {
   "codemirror_mode": {
    "name": "ipython",
    "version": 3
   },
   "file_extension": ".py",
   "mimetype": "text/x-python",
   "name": "python",
   "nbconvert_exporter": "python",
   "pygments_lexer": "ipython3",
   "version": "3.10.6"
  },
  "orig_nbformat": 4
 },
 "nbformat": 4,
 "nbformat_minor": 2
}
